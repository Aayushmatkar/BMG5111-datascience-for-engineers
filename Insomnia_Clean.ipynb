{
  "nbformat": 4,
  "nbformat_minor": 0,
  "metadata": {
    "colab": {
      "provenance": [],
      "authorship_tag": "ABX9TyMgnspgIQJDN7ix/tefDOqU",
      "include_colab_link": true
    },
    "kernelspec": {
      "name": "python3",
      "display_name": "Python 3"
    },
    "language_info": {
      "name": "python"
    }
  },
  "cells": [
    {
      "cell_type": "markdown",
      "metadata": {
        "id": "view-in-github",
        "colab_type": "text"
      },
      "source": [
        "<a href=\"https://colab.research.google.com/github/Aayushmatkar/BMG5111-datascience-for-engineers/blob/main/Insomnia_Clean.ipynb\" target=\"_parent\"><img src=\"https://colab.research.google.com/assets/colab-badge.svg\" alt=\"Open In Colab\"/></a>"
      ]
    },
    {
      "cell_type": "markdown",
      "source": [
        "###testing csv file compatibility\n"
      ],
      "metadata": {
        "id": "GTaIL4vN_rv7"
      }
    },
    {
      "cell_type": "code",
      "execution_count": 2,
      "metadata": {
        "colab": {
          "base_uri": "https://localhost:8080/"
        },
        "id": "P6KPAm9j_bRh",
        "outputId": "abca1715-b70c-4aa2-eba6-4a95b110388d"
      },
      "outputs": [
        {
          "output_type": "stream",
          "name": "stdout",
          "text": [
            "     Person ID  Gender  Age            Occupation  Sleep Duration  \\\n",
            "0            1    Male   27     Software Engineer             6.1   \n",
            "1            2    Male   28                Doctor             6.2   \n",
            "2            3    Male   28                Doctor             6.2   \n",
            "3            4    Male   28  Sales Representative             5.9   \n",
            "4            5    Male   28  Sales Representative             5.9   \n",
            "..         ...     ...  ...                   ...             ...   \n",
            "369        370  Female   59                 Nurse             8.1   \n",
            "370        371  Female   59                 Nurse             8.0   \n",
            "371        372  Female   59                 Nurse             8.1   \n",
            "372        373  Female   59                 Nurse             8.1   \n",
            "373        374  Female   59                 Nurse             8.1   \n",
            "\n",
            "     Quality of Sleep  Physical Activity Level  Stress Level BMI Category  \\\n",
            "0                   6                       42             6   Overweight   \n",
            "1                   6                       60             8       Normal   \n",
            "2                   6                       60             8       Normal   \n",
            "3                   4                       30             8        Obese   \n",
            "4                   4                       30             8        Obese   \n",
            "..                ...                      ...           ...          ...   \n",
            "369                 9                       75             3   Overweight   \n",
            "370                 9                       75             3   Overweight   \n",
            "371                 9                       75             3   Overweight   \n",
            "372                 9                       75             3   Overweight   \n",
            "373                 9                       75             3   Overweight   \n",
            "\n",
            "    Blood Pressure  Heart Rate  Daily Steps Sleep Disorder  \n",
            "0           126/83          77         4200           None  \n",
            "1           125/80          75        10000           None  \n",
            "2           125/80          75        10000           None  \n",
            "3           140/90          85         3000    Sleep Apnea  \n",
            "4           140/90          85         3000    Sleep Apnea  \n",
            "..             ...         ...          ...            ...  \n",
            "369         140/95          68         7000    Sleep Apnea  \n",
            "370         140/95          68         7000    Sleep Apnea  \n",
            "371         140/95          68         7000    Sleep Apnea  \n",
            "372         140/95          68         7000    Sleep Apnea  \n",
            "373         140/95          68         7000    Sleep Apnea  \n",
            "\n",
            "[374 rows x 13 columns]\n"
          ]
        }
      ],
      "source": [
        "import pandas as pd\n",
        "\n",
        "# Read a CSV file into a Pandas DataFrame\n",
        "df = pd.read_csv('sleepdata.csv')\n",
        "\n",
        "# Print the DataFrame\n",
        "print(df)\n"
      ]
    },
    {
      "cell_type": "markdown",
      "source": [
        "##Cleaning the data\n"
      ],
      "metadata": {
        "id": "ce1TWU5b_ltQ"
      }
    },
    {
      "cell_type": "code",
      "source": [
        "import pandas as pd\n",
        "df = pd.read_csv('sleepdata.csv')\n",
        "\n",
        "# Droping rows with 'Sleep Apnea' in the 'Sleep Disorder' column since we are only detecting insomnia\n",
        "df_filtered = df[df['Sleep Disorder'] != 'Sleep Apnea']\n",
        "\n",
        "# Display df\n",
        "print(df_filtered)\n",
        "\n",
        "# Save a new clean CSV file\n",
        "df_filtered.to_csv('filtered_sleepdata.csv', index=False)"
      ],
      "metadata": {
        "colab": {
          "base_uri": "https://localhost:8080/"
        },
        "id": "D5w6pbtt_nxO",
        "outputId": "9e02353b-2641-4979-b978-bed9d78d802a"
      },
      "execution_count": 3,
      "outputs": [
        {
          "output_type": "stream",
          "name": "stdout",
          "text": [
            "     Person ID  Gender  Age         Occupation  Sleep Duration  \\\n",
            "0            1    Male   27  Software Engineer             6.1   \n",
            "1            2    Male   28             Doctor             6.2   \n",
            "2            3    Male   28             Doctor             6.2   \n",
            "5            6    Male   28  Software Engineer             5.9   \n",
            "6            7    Male   29            Teacher             6.3   \n",
            "..         ...     ...  ...                ...             ...   \n",
            "341        342  Female   56             Doctor             8.2   \n",
            "342        343  Female   56             Doctor             8.2   \n",
            "343        344  Female   57              Nurse             8.1   \n",
            "358        359  Female   59              Nurse             8.0   \n",
            "359        360  Female   59              Nurse             8.1   \n",
            "\n",
            "     Quality of Sleep  Physical Activity Level  Stress Level   BMI Category  \\\n",
            "0                   6                       42             6     Overweight   \n",
            "1                   6                       60             8         Normal   \n",
            "2                   6                       60             8         Normal   \n",
            "5                   4                       30             8          Obese   \n",
            "6                   6                       40             7          Obese   \n",
            "..                ...                      ...           ...            ...   \n",
            "341                 9                       90             3  Normal Weight   \n",
            "342                 9                       90             3  Normal Weight   \n",
            "343                 9                       75             3     Overweight   \n",
            "358                 9                       75             3     Overweight   \n",
            "359                 9                       75             3     Overweight   \n",
            "\n",
            "    Blood Pressure  Heart Rate  Daily Steps Sleep Disorder  \n",
            "0           126/83          77         4200           None  \n",
            "1           125/80          75        10000           None  \n",
            "2           125/80          75        10000           None  \n",
            "5           140/90          85         3000       Insomnia  \n",
            "6           140/90          82         3500       Insomnia  \n",
            "..             ...         ...          ...            ...  \n",
            "341         118/75          65        10000           None  \n",
            "342         118/75          65        10000           None  \n",
            "343         140/95          68         7000           None  \n",
            "358         140/95          68         7000           None  \n",
            "359         140/95          68         7000           None  \n",
            "\n",
            "[296 rows x 13 columns]\n"
          ]
        }
      ]
    },
    {
      "cell_type": "markdown",
      "source": [
        "##comparing models with accuracy\n"
      ],
      "metadata": {
        "id": "-Pmj36xqA9SF"
      }
    },
    {
      "cell_type": "code",
      "source": [
        "import pandas as pd\n",
        "import matplotlib.pyplot as plt\n",
        "from sklearn.model_selection import train_test_split\n",
        "from sklearn.preprocessing import StandardScaler\n",
        "from sklearn.ensemble import RandomForestClassifier, GradientBoostingClassifier\n",
        "from sklearn.svm import SVC\n",
        "from sklearn.neighbors import KNeighborsClassifier\n",
        "from sklearn.metrics import accuracy_score, classification_report, confusion_matrix\n",
        "\n",
        "# Read a CSV file into a Pandas DataFrame\n",
        "df = pd.read_csv('filtered_sleepdata.csv')\n",
        "\n",
        "# Handle missing values if any\n",
        "df = df.dropna()\n",
        "\n",
        "# Separate features and target\n",
        "X = df[['Quality of Sleep', 'Sleep Duration', 'Stress Level', 'Physical Activity Level']]\n",
        "y = df['Sleep Disorder']\n",
        "\n",
        "# Normalize or standardize numerical features\n",
        "scaler = StandardScaler()\n",
        "X = scaler.fit_transform(X)\n",
        "\n",
        "# Split the data into training and testing sets\n",
        "X_train, X_test, y_train, y_test = train_test_split(X, y, test_size=0.3, random_state=42)\n",
        "\n",
        "# Define classifiers\n",
        "classifiers = {\n",
        "    'Random Forest': RandomForestClassifier(n_estimators=100, random_state=42),\n",
        "    'Gradient Boosting': GradientBoostingClassifier(random_state=42),\n",
        "    'Support Vector Machine': SVC(random_state=42),\n",
        "    'K-Nearest Neighbors': KNeighborsClassifier()\n",
        "}\n",
        "\n",
        "# Store accuracy scores for visualization\n",
        "accuracy_scores = {}\n",
        "\n",
        "# Train and evaluate each classifier\n",
        "for clf_name, classifier in classifiers.items():\n",
        "    print(f\"Training and evaluating {clf_name}...\")\n",
        "\n",
        "    # Train the classifier\n",
        "    classifier.fit(X_train, y_train)\n",
        "\n",
        "    # Make predictions on the testing set\n",
        "    y_pred = classifier.predict(X_test)\n",
        "\n",
        "    # Evaluate the model\n",
        "    accuracy = accuracy_score(y_test, y_pred)\n",
        "    accuracy_scores[clf_name] = accuracy\n",
        "\n",
        "    # Print classification report and confusion matrix\n",
        "    print(f\"{clf_name} accuracy: {accuracy}\")\n",
        "    print(f\"Classification Report for {clf_name}:\\n\", classification_report(y_test, y_pred))\n",
        "    print(f\"Confusion Matrix for {clf_name}:\\n\", confusion_matrix(y_test, y_pred))\n",
        "    print(\"\\n\" + \"=\"*50 + \"\\n\")  # Separator for better readability\n",
        "\n",
        "# Plot the bar graph\n",
        "plt.bar(accuracy_scores.keys(), accuracy_scores.values())\n",
        "plt.xlabel('Classifier')\n",
        "plt.ylabel('Accuracy Score')\n",
        "plt.title('Classifier Comparison')\n",
        "plt.ylim(0, 1)  # Set the y-axis limit between 0 and 1 for accuracy scores\n",
        "plt.show()"
      ],
      "metadata": {
        "colab": {
          "base_uri": "https://localhost:8080/",
          "height": 1000
        },
        "id": "idCoU7_vA82n",
        "outputId": "1b3421aa-5ff4-46b5-850a-ece6f2d2d359"
      },
      "execution_count": 5,
      "outputs": [
        {
          "output_type": "stream",
          "name": "stdout",
          "text": [
            "Training and evaluating Random Forest...\n",
            "Random Forest accuracy: 0.9662921348314607\n",
            "Classification Report for Random Forest:\n",
            "               precision    recall  f1-score   support\n",
            "\n",
            "    Insomnia       0.95      0.91      0.93        22\n",
            "        None       0.97      0.99      0.98        67\n",
            "\n",
            "    accuracy                           0.97        89\n",
            "   macro avg       0.96      0.95      0.95        89\n",
            "weighted avg       0.97      0.97      0.97        89\n",
            "\n",
            "Confusion Matrix for Random Forest:\n",
            " [[20  2]\n",
            " [ 1 66]]\n",
            "\n",
            "==================================================\n",
            "\n",
            "Training and evaluating Gradient Boosting...\n",
            "Gradient Boosting accuracy: 0.9662921348314607\n",
            "Classification Report for Gradient Boosting:\n",
            "               precision    recall  f1-score   support\n",
            "\n",
            "    Insomnia       0.95      0.91      0.93        22\n",
            "        None       0.97      0.99      0.98        67\n",
            "\n",
            "    accuracy                           0.97        89\n",
            "   macro avg       0.96      0.95      0.95        89\n",
            "weighted avg       0.97      0.97      0.97        89\n",
            "\n",
            "Confusion Matrix for Gradient Boosting:\n",
            " [[20  2]\n",
            " [ 1 66]]\n",
            "\n",
            "==================================================\n",
            "\n",
            "Training and evaluating Support Vector Machine...\n",
            "Support Vector Machine accuracy: 0.9213483146067416\n",
            "Classification Report for Support Vector Machine:\n",
            "               precision    recall  f1-score   support\n",
            "\n",
            "    Insomnia       0.80      0.91      0.85        22\n",
            "        None       0.97      0.93      0.95        67\n",
            "\n",
            "    accuracy                           0.92        89\n",
            "   macro avg       0.88      0.92      0.90        89\n",
            "weighted avg       0.93      0.92      0.92        89\n",
            "\n",
            "Confusion Matrix for Support Vector Machine:\n",
            " [[20  2]\n",
            " [ 5 62]]\n",
            "\n",
            "==================================================\n",
            "\n",
            "Training and evaluating K-Nearest Neighbors...\n",
            "K-Nearest Neighbors accuracy: 0.9550561797752809\n",
            "Classification Report for K-Nearest Neighbors:\n",
            "               precision    recall  f1-score   support\n",
            "\n",
            "    Insomnia       0.91      0.91      0.91        22\n",
            "        None       0.97      0.97      0.97        67\n",
            "\n",
            "    accuracy                           0.96        89\n",
            "   macro avg       0.94      0.94      0.94        89\n",
            "weighted avg       0.96      0.96      0.96        89\n",
            "\n",
            "Confusion Matrix for K-Nearest Neighbors:\n",
            " [[20  2]\n",
            " [ 2 65]]\n",
            "\n",
            "==================================================\n",
            "\n"
          ]
        },
        {
          "output_type": "display_data",
          "data": {
            "text/plain": [
              "<Figure size 640x480 with 1 Axes>"
            ],
            "image/png": "[encoded data removed]"
          },
          "metadata": {}
        }
      ]
    },
    {
      "cell_type": "markdown",
      "source": [
        "###Training the model with random Forest since higher accuracy\n",
        "\n",
        "\n",
        ""
      ],
      "metadata": {
        "id": "8bs2Rj6V_-TS"
      }
    },
    {
      "cell_type": "code",
      "source": [],
      "metadata": {
        "id": "ZEUIn-fsAF_-"
      },
      "execution_count": null,
      "outputs": []
    },
    {
      "cell_type": "code",
      "source": [
        "import pandas as pd\n",
        "from sklearn.model_selection import train_test_split\n",
        "from sklearn.preprocessing import StandardScaler\n",
        "from sklearn.ensemble import RandomForestClassifier\n",
        "from sklearn.metrics import accuracy_score, classification_report, confusion_matrix\n",
        "\n",
        "# Read a CSV file into a Pandas DataFrame\n",
        "df = pd.read_csv('filtered_sleepdata.csv')\n",
        "\n",
        "# Handle missing values if any\n",
        "df = df.dropna()\n",
        "\n",
        "# Separate features and target\n",
        "X = df[['Quality of Sleep', 'Sleep Duration', 'Stress Level', 'Physical Activity Level']]\n",
        "y = df['Sleep Disorder']\n",
        "\n",
        "# Encode categorical variables if any\n",
        "\n",
        "# Normalize or standardize numerical features\n",
        "scaler = StandardScaler()\n",
        "X = scaler.fit_transform(X)\n",
        "\n",
        "# Split the data into training and testing sets\n",
        "X_train, X_test, y_train, y_test = train_test_split(X, y, test_size=0.3, random_state=42)\n",
        "\n",
        "# Train a Random Forest Classifier (you can experiment with other classifiers)\n",
        "model = RandomForestClassifier(n_estimators=100, random_state=42)\n",
        "model.fit(X_train, y_train)\n",
        "\n",
        "# Evaluate the model on the testing set\n",
        "y_pred = model.predict(X_test)\n",
        "\n",
        "# Use appropriate evaluation metrics\n",
        "accuracy = accuracy_score(y_test, y_pred)\n",
        "print(f\"Model accuracy: {accuracy}\")\n",
        "\n",
        "# Print classification report and confusion matrix\n",
        "print(\"Classification Report:\\n\", classification_report(y_test, y_pred))\n",
        "print(\"Confusion Matrix:\\n\", confusion_matrix(y_test, y_pred))\n"
      ],
      "metadata": {
        "colab": {
          "base_uri": "https://localhost:8080/"
        },
        "id": "fZO8pymTd9DO",
        "outputId": "4ef64877-e154-4b7e-ba45-9cb79ac9d3d8"
      },
      "execution_count": 6,
      "outputs": [
        {
          "output_type": "stream",
          "name": "stdout",
          "text": [
            "Model accuracy: 0.9662921348314607\n",
            "Classification Report:\n",
            "               precision    recall  f1-score   support\n",
            "\n",
            "    Insomnia       0.95      0.91      0.93        22\n",
            "        None       0.97      0.99      0.98        67\n",
            "\n",
            "    accuracy                           0.97        89\n",
            "   macro avg       0.96      0.95      0.95        89\n",
            "weighted avg       0.97      0.97      0.97        89\n",
            "\n",
            "Confusion Matrix:\n",
            " [[20  2]\n",
            " [ 1 66]]\n"
          ]
        }
      ]
    },
    {
      "cell_type": "markdown",
      "source": [
        "###Exporting scaler since api needs the vectorisation\n"
      ],
      "metadata": {
        "id": "OmTS-FhvB1MY"
      }
    },
    {
      "cell_type": "code",
      "source": [
        "import pickle\n",
        "\n",
        "with open('scaler.pkl', 'wb') as file:\n",
        "    pickle.dump(scaler, file)"
      ],
      "metadata": {
        "id": "V9sH0KRNB8aq"
      },
      "execution_count": 7,
      "outputs": []
    },
    {
      "cell_type": "markdown",
      "source": [
        "###Testing the model with an actual input string\n"
      ],
      "metadata": {
        "id": "SaJljPthB-M2"
      }
    },
    {
      "cell_type": "code",
      "source": [
        "quality_of_sleep = float(input(\"Enter your quality of sleep (1-10): \"))\n",
        "sleep_duration = float(input(\"Enter your sleep duration (hours): \"))\n",
        "stress_level = float(input(\"Enter your stress level (1-10): \"))\n",
        "physical_activity = float(input(\"Enter youractivity level (1-10): \"))\n",
        "\n",
        "# Create a feature vector\n",
        "features = [quality_of_sleep, sleep_duration, stress_level,physical_activity]\n",
        "\n",
        "# Predict the probability of insomnia\n",
        "predicted_probability = model.predict_proba([features])[0][1]\n",
        "print(predicted_probability)\n",
        "# Print the prediction\n",
        "if predicted_probability > 0.5:\n",
        "  print(\"You are likely to have insomnia.\")\n",
        "else:\n",
        "  print(\"You are unlikely to have insomnia.\")\n"
      ],
      "metadata": {
        "colab": {
          "base_uri": "https://localhost:8080/"
        },
        "id": "GO1HDzFQCBsC",
        "outputId": "8fad01de-6620-4fdb-a542-6074839412da"
      },
      "execution_count": 8,
      "outputs": [
        {
          "output_type": "stream",
          "name": "stdout",
          "text": [
            "Enter your quality of sleep (1-10): 4\n",
            "Enter your sleep duration (hours): 5\n",
            "Enter your stress level (1-10): 8\n",
            "Enter youractivity level (1-10): 2\n",
            "0.9821774891774893\n",
            "You are likely to have insomnia.\n"
          ]
        }
      ]
    }
  ]
}